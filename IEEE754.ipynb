{
 "cells": [
  {
   "cell_type": "code",
   "execution_count": 1,
   "metadata": {},
   "outputs": [
    {
     "name": "stdout",
     "output_type": "stream",
     "text": [
      "\n",
      "Single精度形式:\n",
      "10進数: -83625.7\n",
      "符号部: 1\n",
      "指数部: 10001111 (e=16)\n",
      "仮数部: 01000110101010011011001\n",
      "IEEE 754: 11000111101000110101010011011001\n",
      "\n",
      "Double精度形式:\n",
      "10進数: -83625.7\n",
      "符号部: 1\n",
      "指数部: 10000001111 (e=16)\n",
      "仮数部: 0100011010101001101100110011001100110011001100110011\n",
      "IEEE 754: 1100000011110100011010101001101100110011001100110011001100110011\n"
     ]
    }
   ],
   "source": [
    "def decimal_to_binary(num, precision='single'):\n",
    "    # 整数部分と小数部分を分離\n",
    "    integer_part = int(abs(num))\n",
    "    fractional_part = abs(num) - integer_part\n",
    "    \n",
    "    # 整数部分を2進数に変換\n",
    "    binary_int = ''\n",
    "    if integer_part == 0:\n",
    "        binary_int = '0'\n",
    "    while integer_part > 0:\n",
    "        binary_int = str(integer_part % 2) + binary_int\n",
    "        integer_part //= 2\n",
    "    \n",
    "    # 小数部分を2進数に変換（精度に応じて桁数を調整）\n",
    "    binary_frac = ''\n",
    "    max_precision = 23 if precision == 'single' else 52\n",
    "    while fractional_part > 0 and len(binary_frac) < max_precision:\n",
    "        fractional_part *= 2\n",
    "        bit = int(fractional_part)\n",
    "        binary_frac += str(bit)\n",
    "        fractional_part -= bit\n",
    "    \n",
    "    return binary_int + ('.' + binary_frac if binary_frac else '')\n",
    "\n",
    "def to_ieee754(num, precision='single'):\n",
    "    if precision not in ['single', 'double']:\n",
    "        raise ValueError(\"精度は'single'か'double'を指定してください\")\n",
    "    \n",
    "    # 形式に応じたパラメータを設定\n",
    "    params = {\n",
    "        'single': {'bias': 127, 'exp_bits': 8, 'mantissa_bits': 23},\n",
    "        'double': {'bias': 1023, 'exp_bits': 11, 'mantissa_bits': 52}\n",
    "    }[precision]\n",
    "    \n",
    "    # 符号ビットの決定\n",
    "    sign = '1' if num < 0 else '0'\n",
    "    \n",
    "    # 2進数に変換\n",
    "    binary = decimal_to_binary(abs(num), precision)\n",
    "    \n",
    "    # 正規化して指数を求める\n",
    "    if '.' not in binary:\n",
    "        binary += '.'\n",
    "    point_pos = binary.find('.')\n",
    "    first_one = binary.find('1')\n",
    "    \n",
    "    if first_one == -1:  # 0の場合\n",
    "        exponent = 0\n",
    "        mantissa = '0' * params['mantissa_bits']\n",
    "    else:\n",
    "        # 指数の計算\n",
    "        exponent = point_pos - first_one - 1\n",
    "        if first_one > point_pos:\n",
    "            exponent = point_pos - first_one\n",
    "            \n",
    "        # バイアスの追加\n",
    "        exponent += params['bias']\n",
    "        \n",
    "        # 仮数部の作成\n",
    "        binary_normalized = binary.replace('.', '')\n",
    "        mantissa = binary_normalized[first_one+1:]\n",
    "        mantissa = mantissa + '0' * params['mantissa_bits']  # 必要な長さまで0で埋める\n",
    "        mantissa = mantissa[:params['mantissa_bits']]\n",
    "    \n",
    "    # 指数部のビット表現\n",
    "    exponent = bin(exponent)[2:].zfill(params['exp_bits'])\n",
    "    \n",
    "    return {\n",
    "        'sign': sign,\n",
    "        'exponent': exponent,\n",
    "        'mantissa': mantissa,\n",
    "        'ieee754': sign + exponent + mantissa,\n",
    "        'format': precision\n",
    "    }\n",
    "\n",
    "# 使用例\n",
    "number = -83625.7\n",
    "for format in ['single', 'double']:\n",
    "    result = to_ieee754(number, format)\n",
    "    print(f\"\\n{format.capitalize()}精度形式:\")\n",
    "    print(f\"10進数: {number}\")\n",
    "    print(f\"符号部: {result['sign']}\")\n",
    "    print(f\"指数部: {result['exponent']}\")\n",
    "    print(f\"仮数部: {result['mantissa']}\")\n",
    "    print(f\"IEEE 754: {result['ieee754']}\")"
   ]
  },
  {
   "cell_type": "code",
   "execution_count": 15,
   "metadata": {},
   "outputs": [
    {
     "name": "stdout",
     "output_type": "stream",
     "text": [
      "Requirement already satisfied: ieee754 in c:\\users\\admin\\appdata\\local\\programs\\python\\python311\\lib\\site-packages (0.11)\n",
      "Note: you may need to restart the kernel to use updated packages.\n",
      "1 10001111 01000110101010011011001\n",
      "1 10000001111 0100011010101001101100110011001100110011001100110011\n"
     ]
    }
   ],
   "source": [
    "# %pip install ieee754\n",
    "from ieee754 import double, single\n",
    "\n",
    "print(single(-83625.7))\n",
    "print(double(-83625.7))"
   ]
  }
 ],
 "metadata": {
  "kernelspec": {
   "display_name": "Python 3",
   "language": "python",
   "name": "python3"
  },
  "language_info": {
   "codemirror_mode": {
    "name": "ipython",
    "version": 3
   },
   "file_extension": ".py",
   "mimetype": "text/x-python",
   "name": "python",
   "nbconvert_exporter": "python",
   "pygments_lexer": "ipython3",
   "version": "3.11.3"
  }
 },
 "nbformat": 4,
 "nbformat_minor": 2
}
