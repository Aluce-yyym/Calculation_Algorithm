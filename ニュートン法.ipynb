{
 "cells": [
  {
   "cell_type": "markdown",
   "metadata": {},
   "source": [
    "##### $f(x) = x^3 - 3x^2 + 3x + 1$"
   ]
  },
  {
   "cell_type": "code",
   "execution_count": 14,
   "metadata": {},
   "outputs": [
    {
     "name": "stdout",
     "output_type": "stream",
     "text": [
      "newton_method(0)       = -0.2599210500177698\n",
      "newton_method(0, True) = Decimal('-0.2599210500177697737293010979')\n"
     ]
    }
   ],
   "source": [
    "import decimal\n",
    "\n",
    "def func(x):\n",
    "    return (x**3) - 3*(x**2) + 3*x + 1\n",
    "\n",
    "def dfdx(x):\n",
    "    return 3*(x**2) - 6*x + 3\n",
    "\n",
    "def newton_method(x0, flag=False):\n",
    "    if flag:\n",
    "        epsiron = decimal.Decimal(\"1.0e-4\")\n",
    "        x0 = decimal.Decimal(str(x0))\n",
    "    else:\n",
    "        epsiron = 1.0e-4\n",
    "    \n",
    "    k_max = 10000\n",
    "    for _ in range(k_max):\n",
    "        x = x0 - func(x0) / dfdx(x0)\n",
    "        if abs(x - x0) < epsiron:\n",
    "            return x\n",
    "        x0 = x\n",
    "    return x\n",
    "\n",
    "root = newton_method(0)\n",
    "print(f\"{newton_method(0)       = }\")\n",
    "print(f\"{newton_method(0, True) = }\")"
   ]
  },
  {
   "cell_type": "markdown",
   "metadata": {},
   "source": [
    "##### $f(x) = hoge$"
   ]
  },
  {
   "cell_type": "code",
   "execution_count": 17,
   "metadata": {},
   "outputs": [
    {
     "name": "stdout",
     "output_type": "stream",
     "text": [
      "3*x**2 - 6*x + 3\n"
     ]
    }
   ],
   "source": [
    "from sympy import *\n",
    "x = Symbol('x')\n",
    "\n",
    "def dfdx(x, a):\n",
    "    return limit(diff(x**2 + 2*x, x), x, a)\n",
    "\n",
    "dfdx(x, 2)\n",
    "\n",
    "print(diff(x**3 - 3*x**2 + 3*x + 1, x))"
   ]
  }
 ],
 "metadata": {
  "kernelspec": {
   "display_name": "Python 3",
   "language": "python",
   "name": "python3"
  },
  "language_info": {
   "codemirror_mode": {
    "name": "ipython",
    "version": 3
   },
   "file_extension": ".py",
   "mimetype": "text/x-python",
   "name": "python",
   "nbconvert_exporter": "python",
   "pygments_lexer": "ipython3",
   "version": "3.11.3"
  }
 },
 "nbformat": 4,
 "nbformat_minor": 2
}
