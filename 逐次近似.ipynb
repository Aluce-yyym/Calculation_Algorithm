{
 "cells": [
  {
   "cell_type": "code",
   "execution_count": 16,
   "metadata": {},
   "outputs": [
    {
     "name": "stdout",
     "output_type": "stream",
     "text": [
      "alpha_ = 0.780776406404415137455352464\n",
      "beta_ = -1.280776406404415137455352464\n",
      "\n",
      "x1 = 1.414213562373095048801688724\n",
      "x2 = 0.5411961001461969843997232055\n",
      "x3 = 0.8540503204887294624286786226\n",
      "x4 = 0.7569510154267812783126517302\n",
      "x5 = 0.7883682466250206356313743134\n",
      "x6 = 0.7783417480050069125832678413\n",
      "x7 = 0.7815555808754080822646207510\n",
      "x8 = 0.7805268794617491959905184153\n",
      "x9 = 0.7808562993721222468273037687\n",
      "x10 = 0.7807508247283116873507841482\n"
     ]
    }
   ],
   "source": [
    "from decimal import Decimal\n",
    "\n",
    "\n",
    "def solution_of_quadratic_equation(a, b, c):\n",
    "    a = Decimal(a)\n",
    "    b = Decimal(b)\n",
    "    c = Decimal(c)\n",
    "    tmp = (b**2 - 4*a*c).sqrt()\n",
    "    alpha_ = (-b + tmp) / (2*a)\n",
    "    beta_ = (-b - tmp) / (2*a)\n",
    "    return alpha_, beta_\n",
    "\n",
    "\n",
    "def successive_approximations(a, b, c, x0=0):\n",
    "    a = Decimal(a)\n",
    "    b = Decimal(b)\n",
    "    c = Decimal(c)\n",
    "    return ((-b*x0 - c) / a).sqrt()\n",
    "\n",
    "\n",
    "# 実行例\n",
    "# 2次方程式の定数項を設定\n",
    "a = 2\n",
    "b = 1\n",
    "c = -2\n",
    "\n",
    "alpha_, beta_ = solution_of_quadratic_equation(a, b, c)\n",
    "print(f\"alpha_ = {alpha_}\")\n",
    "print(f\"beta_ = {beta_}\\n\")\n",
    "\n",
    "x_n = -2\n",
    "for i in range(1, 11):\n",
    "    x_n = successive_approximations(a, b, c, x_n)\n",
    "    print(f\"x{i} = {x_n}\")"
   ]
  }
 ],
 "metadata": {
  "kernelspec": {
   "display_name": "Python 3",
   "language": "python",
   "name": "python3"
  },
  "language_info": {
   "codemirror_mode": {
    "name": "ipython",
    "version": 3
   },
   "file_extension": ".py",
   "mimetype": "text/x-python",
   "name": "python",
   "nbconvert_exporter": "python",
   "pygments_lexer": "ipython3",
   "version": "3.11.3"
  }
 },
 "nbformat": 4,
 "nbformat_minor": 2
}
