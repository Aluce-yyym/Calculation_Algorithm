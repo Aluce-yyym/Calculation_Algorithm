{
 "cells": [
  {
   "cell_type": "code",
   "execution_count": 2,
   "metadata": {},
   "outputs": [
    {
     "name": "stdout",
     "output_type": "stream",
     "text": [
      "[[ 0 10 55 20  0  0  0  0]\n",
      " [10  0  0  0 20 40  0  0]\n",
      " [55  0  0  0  0 10 15  0]\n",
      " [20  0  0  0 20  0 55  0]\n",
      " [ 0 20  0 20  0 10  0  0]\n",
      " [ 0 40 10  0 10  0 30 50]\n",
      " [ 0  0 15 55  0 30  0 20]\n",
      " [ 0  0  0  0  0 50 20  0]]\n",
      "v1からv8までの最短経路: ['v1', 'v2', 'v5', 'v6', 'v3', 'v7', 'v8']\n",
      "距離: 85\n"
     ]
    }
   ],
   "source": [
    "import numpy as np\n",
    "\n",
    "def check_symmetric(matrix):\n",
    "    n = len(matrix)\n",
    "    for i in range(n):\n",
    "        for j in range(i):\n",
    "            if matrix[i][j] != matrix[j][i]:\n",
    "                print(f\"非対称です。matrix[{i}][{j}] = {matrix[i][j]}, matrix[{j}][{i}] = {matrix[j][i]}\")\n",
    "                return False, (i, j), (matrix[i][j], matrix[j][i])\n",
    "    return True, None, None\n",
    "\n",
    "\n",
    "adjacency_matrix = np.array([\n",
    "    [0, 10, 55, 20, 0, 0, 0, 0],\n",
    "    [10, 0, 0, 0, 20, 40, 0, 0],\n",
    "    [55, 0, 0, 0, 0, 10, 15, 0],\n",
    "    [20, 0, 0, 0, 20, 0, 55, 0],\n",
    "    [0, 20, 0, 20, 0, 10, 0, 0],\n",
    "    [0, 40, 10, 0, 10, 0, 30, 50],\n",
    "    [0, 0, 15, 55, 0, 30, 0, 20],\n",
    "    [0, 0, 0, 0, 0, 50, 20, 0]\n",
    "])\n",
    "\n",
    "check_symmetric(adjacency_matrix)\n",
    "print(adjacency_matrix)\n",
    "\n",
    "def dijkstra(graph, start_node):\n",
    "    num_vertices = len(graph)\n",
    "    distances = {node: float('inf') for node in range(num_vertices)}\n",
    "    distances[start_node] = 0\n",
    "    unvisited_nodes = set(range(num_vertices))\n",
    "    previous_nodes = {node: None for node in range(num_vertices)}\n",
    "\n",
    "    while unvisited_nodes:\n",
    "        current_node = min(unvisited_nodes, key=lambda node: distances[node])\n",
    "        unvisited_nodes.remove(current_node)\n",
    "\n",
    "        for neighbor in range(num_vertices):\n",
    "            if graph[current_node][neighbor] > 0:\n",
    "                new_distance = distances[current_node] + graph[current_node][neighbor]\n",
    "                if new_distance < distances[neighbor]:\n",
    "                    distances[neighbor] = new_distance\n",
    "                    previous_nodes[neighbor] = current_node\n",
    "    return distances, previous_nodes\n",
    "\n",
    "def get_shortest_path(previous_nodes, start_node, target_node):\n",
    "    path = []\n",
    "    current_node = target_node\n",
    "    while current_node is not None:\n",
    "        path.insert(0, current_node)\n",
    "        current_node = previous_nodes[current_node]\n",
    "    if path[0] != start_node:\n",
    "        return None\n",
    "    return path\n",
    "\n",
    "start_node = 0\n",
    "target_node = 7\n",
    "distances, previous_nodes = dijkstra(adjacency_matrix, start_node)\n",
    "shortest_path = get_shortest_path(previous_nodes, start_node, target_node)\n",
    "\n",
    "if shortest_path:\n",
    "    print(f\"v{start_node+1}からv{target_node+1}までの最短経路: {[f'v{node+1}' for node in shortest_path]}\")\n",
    "    print(f\"距離: {distances[target_node]}\")\n",
    "else:\n",
    "    print(f\"v{start_node+1}からv{target_node+1}への経路が見つかりませんでした。\")\n"
   ]
  }
 ],
 "metadata": {
  "kernelspec": {
   "display_name": "Python 3",
   "language": "python",
   "name": "python3"
  },
  "language_info": {
   "codemirror_mode": {
    "name": "ipython",
    "version": 3
   },
   "file_extension": ".py",
   "mimetype": "text/x-python",
   "name": "python",
   "nbconvert_exporter": "python",
   "pygments_lexer": "ipython3",
   "version": "3.11.3"
  }
 },
 "nbformat": 4,
 "nbformat_minor": 2
}
