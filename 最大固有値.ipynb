{
 "cells": [
  {
   "cell_type": "markdown",
   "metadata": {},
   "source": [
    "## べき乗法"
   ]
  },
  {
   "cell_type": "code",
   "execution_count": 16,
   "metadata": {},
   "outputs": [
    {
     "name": "stdout",
     "output_type": "stream",
     "text": [
      "Iteration 0:\n",
      "  x = [1. 1.]\n",
      "  y = A @ x = [13.  7.]\n",
      "  lambda_current = y[1] = 7.0\n",
      "  x = y / lambda_current = [1.857 1.   ]\n",
      "  lambda_prev = 7.0\n",
      "\n",
      "Iteration 1:\n",
      "  x = [1.857 1.   ]\n",
      "  y = A @ x = [20.714 10.429]\n",
      "  lambda_current = y[1] = 10.429\n",
      "  x = y / lambda_current = [1.986 1.   ]\n",
      "  lambda_prev = 10.429\n",
      "\n",
      "Iteration 2:\n",
      "  x = [1.986 1.   ]\n",
      "  y = A @ x = [21.877 10.945]\n",
      "  lambda_current = y[1] = 10.945\n",
      "  x = y / lambda_current = [1.999 1.   ]\n",
      "  lambda_prev = 10.945\n",
      "\n"
     ]
    }
   ],
   "source": [
    "import numpy as np\n",
    "\n",
    "def power_method_c_like(A: np.ndarray, x0: np.ndarray, epsilon: float = 1e-15, max_iterations: int = 1000):\n",
    "    \"\"\"\n",
    "    べき乗法を実装する。\n",
    "    Args:\n",
    "        A (np.array): 対象の正方行列。\n",
    "        x0 (np.array): 初期ベクトル。\n",
    "        epsilon (float): 収束判定の閾値。\n",
    "        max_iterations (int): 最大反復回数。\n",
    "    Returns:\n",
    "        tuple: 最大固有値の近似値と、対応する固有ベクトルの近似値。\n",
    "    \"\"\"\n",
    "    n = A.shape[0]\n",
    "    x = np.array(x0, dtype=float)\n",
    "    lambda_prev = 0.0\n",
    "    \n",
    "    for i in range(max_iterations):\n",
    "        print(f\"Iteration {i}:\")\n",
    "        print(f\"  x = {np.round(x, 3)}\")\n",
    "        y = np.dot(A, x)\n",
    "        print(f\"  y = A @ x = {np.round(y, 3)}\")\n",
    "        lambda_current = y[n-1]\n",
    "        print(f\"  lambda_current = y[{n-1}] = {np.round(lambda_current, 3)}\")\n",
    "        x = y / lambda_current\n",
    "        print(f\"  x = y / lambda_current = {np.round(x, 3)}\")\n",
    "        if abs(lambda_current - lambda_prev) <= epsilon:\n",
    "            print(f\"  Converged at iteration {i}\")\n",
    "            break\n",
    "        lambda_prev = lambda_current\n",
    "        print(f\"  lambda_prev = {np.round(lambda_prev, 3)}\\n\")\n",
    "    return lambda_current, x\n",
    "\n",
    "# A_c = np.array([[10.0, 3.0, 2.0],\n",
    "#                 [3.0, 5.0, 1.0],\n",
    "#                 [2.0, 1.0, 0.0]])\n",
    "A_c = np.array([[5, 1], [1, 4]])\n",
    "A_c = np.array([[9, 4], [4, 3]])\n",
    "\n",
    "x0_c = [1, 1]\n",
    "lambda_c, x_c = power_method_c_like(A_c, x0_c, epsilon=0.1, max_iterations=3)\n",
    "# print(f\"Lambda = {lambda_c}\")\n",
    "# print(f\"x = {x_c}\")\n",
    "\n"
   ]
  },
  {
   "cell_type": "code",
   "execution_count": 31,
   "metadata": {},
   "outputs": [
    {
     "data": {
      "text/latex": [
       "行列 A:"
      ],
      "text/plain": [
       "<IPython.core.display.Latex object>"
      ]
     },
     "metadata": {},
     "output_type": "display_data"
    },
    {
     "data": {
      "text/latex": [
       "$\\displaystyle A = \\begin{pmatrix}9 & 4 \\\\ 4 & 3\\end{pmatrix}$"
      ],
      "text/plain": [
       "<IPython.core.display.Math object>"
      ]
     },
     "metadata": {},
     "output_type": "display_data"
    },
    {
     "data": {
      "text/latex": [
       "初期ベクトル x_0:"
      ],
      "text/plain": [
       "<IPython.core.display.Latex object>"
      ]
     },
     "metadata": {},
     "output_type": "display_data"
    },
    {
     "data": {
      "text/latex": [
       "$\\displaystyle x_0 = \\begin{pmatrix}1 \\\\ 1\\end{pmatrix}$"
      ],
      "text/plain": [
       "<IPython.core.display.Math object>"
      ]
     },
     "metadata": {},
     "output_type": "display_data"
    },
    {
     "data": {
      "text/latex": [
       "反復 0:"
      ],
      "text/plain": [
       "<IPython.core.display.Latex object>"
      ]
     },
     "metadata": {},
     "output_type": "display_data"
    },
    {
     "data": {
      "text/latex": [
       "$\\displaystyle x = \\begin{pmatrix}1.0 \\\\ 1.0\\end{pmatrix}$"
      ],
      "text/plain": [
       "<IPython.core.display.Math object>"
      ]
     },
     "metadata": {},
     "output_type": "display_data"
    },
    {
     "data": {
      "text/latex": [
       "$\\displaystyle y = A \\cdot x = \\begin{pmatrix}13.0 \\\\ 7.0\\end{pmatrix}$"
      ],
      "text/plain": [
       "<IPython.core.display.Math object>"
      ]
     },
     "metadata": {},
     "output_type": "display_data"
    },
    {
     "data": {
      "text/latex": [
       "$\\displaystyle \\lambda_{\\text{current}} = y_{2} = 7.0$"
      ],
      "text/plain": [
       "<IPython.core.display.Math object>"
      ]
     },
     "metadata": {},
     "output_type": "display_data"
    },
    {
     "data": {
      "text/latex": [
       "$\\displaystyle x = \\frac{y}{\\lambda_{\\text{current}}} = \\begin{pmatrix}1.857 \\\\ 1.0\\end{pmatrix}$"
      ],
      "text/plain": [
       "<IPython.core.display.Math object>"
      ]
     },
     "metadata": {},
     "output_type": "display_data"
    },
    {
     "data": {
      "text/latex": [
       "$\\displaystyle \\lambda_{\\text{prev}} = 7.0$"
      ],
      "text/plain": [
       "<IPython.core.display.Math object>"
      ]
     },
     "metadata": {},
     "output_type": "display_data"
    },
    {
     "data": {
      "text/latex": [],
      "text/plain": [
       "<IPython.core.display.Latex object>"
      ]
     },
     "metadata": {},
     "output_type": "display_data"
    },
    {
     "data": {
      "text/latex": [
       "反復 1:"
      ],
      "text/plain": [
       "<IPython.core.display.Latex object>"
      ]
     },
     "metadata": {},
     "output_type": "display_data"
    },
    {
     "data": {
      "text/latex": [
       "$\\displaystyle x = \\begin{pmatrix}1.857 \\\\ 1.0\\end{pmatrix}$"
      ],
      "text/plain": [
       "<IPython.core.display.Math object>"
      ]
     },
     "metadata": {},
     "output_type": "display_data"
    },
    {
     "data": {
      "text/latex": [
       "$\\displaystyle y = A \\cdot x = \\begin{pmatrix}20.714 \\\\ 10.429\\end{pmatrix}$"
      ],
      "text/plain": [
       "<IPython.core.display.Math object>"
      ]
     },
     "metadata": {},
     "output_type": "display_data"
    },
    {
     "data": {
      "text/latex": [
       "$\\displaystyle \\lambda_{\\text{current}} = y_{2} = 10.429$"
      ],
      "text/plain": [
       "<IPython.core.display.Math object>"
      ]
     },
     "metadata": {},
     "output_type": "display_data"
    },
    {
     "data": {
      "text/latex": [
       "$\\displaystyle x = \\frac{y}{\\lambda_{\\text{current}}} = \\begin{pmatrix}1.986 \\\\ 1.0\\end{pmatrix}$"
      ],
      "text/plain": [
       "<IPython.core.display.Math object>"
      ]
     },
     "metadata": {},
     "output_type": "display_data"
    },
    {
     "data": {
      "text/latex": [
       "$\\displaystyle \\lambda_{\\text{prev}} = 10.429$"
      ],
      "text/plain": [
       "<IPython.core.display.Math object>"
      ]
     },
     "metadata": {},
     "output_type": "display_data"
    },
    {
     "data": {
      "text/latex": [],
      "text/plain": [
       "<IPython.core.display.Latex object>"
      ]
     },
     "metadata": {},
     "output_type": "display_data"
    },
    {
     "data": {
      "text/latex": [
       "反復 2:"
      ],
      "text/plain": [
       "<IPython.core.display.Latex object>"
      ]
     },
     "metadata": {},
     "output_type": "display_data"
    },
    {
     "data": {
      "text/latex": [
       "$\\displaystyle x = \\begin{pmatrix}1.986 \\\\ 1.0\\end{pmatrix}$"
      ],
      "text/plain": [
       "<IPython.core.display.Math object>"
      ]
     },
     "metadata": {},
     "output_type": "display_data"
    },
    {
     "data": {
      "text/latex": [
       "$\\displaystyle y = A \\cdot x = \\begin{pmatrix}21.877 \\\\ 10.945\\end{pmatrix}$"
      ],
      "text/plain": [
       "<IPython.core.display.Math object>"
      ]
     },
     "metadata": {},
     "output_type": "display_data"
    },
    {
     "data": {
      "text/latex": [
       "$\\displaystyle \\lambda_{\\text{current}} = y_{2} = 10.945$"
      ],
      "text/plain": [
       "<IPython.core.display.Math object>"
      ]
     },
     "metadata": {},
     "output_type": "display_data"
    },
    {
     "data": {
      "text/latex": [
       "$\\displaystyle x = \\frac{y}{\\lambda_{\\text{current}}} = \\begin{pmatrix}1.999 \\\\ 1.0\\end{pmatrix}$"
      ],
      "text/plain": [
       "<IPython.core.display.Math object>"
      ]
     },
     "metadata": {},
     "output_type": "display_data"
    },
    {
     "data": {
      "text/latex": [
       "$\\displaystyle \\lambda_{\\text{prev}} = 10.945$"
      ],
      "text/plain": [
       "<IPython.core.display.Math object>"
      ]
     },
     "metadata": {},
     "output_type": "display_data"
    },
    {
     "data": {
      "text/latex": [],
      "text/plain": [
       "<IPython.core.display.Latex object>"
      ]
     },
     "metadata": {},
     "output_type": "display_data"
    },
    {
     "data": {
      "text/latex": [
       "最終結果:"
      ],
      "text/plain": [
       "<IPython.core.display.Latex object>"
      ]
     },
     "metadata": {},
     "output_type": "display_data"
    },
    {
     "data": {
      "text/latex": [
       "$\\displaystyle \\lambda = 10.945$"
      ],
      "text/plain": [
       "<IPython.core.display.Math object>"
      ]
     },
     "metadata": {},
     "output_type": "display_data"
    },
    {
     "data": {
      "text/latex": [
       "$\\displaystyle x = \\begin{pmatrix}1.999 \\\\ 1.0\\end{pmatrix}$"
      ],
      "text/plain": [
       "<IPython.core.display.Math object>"
      ]
     },
     "metadata": {},
     "output_type": "display_data"
    }
   ],
   "source": [
    "import numpy as np\n",
    "from IPython.display import display, Math, Latex\n",
    "\n",
    "def power_method_c_like(A: np.ndarray, x0: np.ndarray, epsilon: float = 1e-15, max_iterations: int = 1000):\n",
    "    \"\"\"\n",
    "    べき乗法を実装する。\n",
    "    Args:\n",
    "        A (np.array): 対象の正方行列。\n",
    "        x0 (np.array): 初期ベクトル。\n",
    "        epsilon (float): 収束判定の閾値。\n",
    "        max_iterations (int): 最大反復回数。\n",
    "    Returns:\n",
    "        tuple: 最大固有値の近似値と、対応する固有ベクトルの近似値。\n",
    "    \"\"\"\n",
    "    n = A.shape[0]\n",
    "    x = np.array(x0, dtype=float)\n",
    "    lambda_prev = 0.0\n",
    "    \n",
    "    display(Latex(\"行列 A:\"))\n",
    "    display(Math(r\"A = \" + matrix_to_latex(A)))\n",
    "    \n",
    "    display(Latex(\"初期ベクトル x_0:\"))\n",
    "    display(Math(r\"x_0 = \" + vector_to_latex(x0)))\n",
    "    \n",
    "    for i in range(max_iterations):\n",
    "        display(Latex(f\"反復 {i}:\"))\n",
    "        display(Math(r\"x = \" + vector_to_latex(np.round(x, 3))))\n",
    "        y = np.dot(A, x)\n",
    "        display(Math(r\"y = A \\cdot x = \" + vector_to_latex(np.round(y, 3))))\n",
    "        lambda_current = y[n-1]\n",
    "        display(Math(r\"\\lambda_{\\text{current}} = y_{\" + str(n) + r\"} = \" + f\"{np.round(lambda_current, 3)}\"))\n",
    "        x = y / lambda_current\n",
    "        display(Math(r\"x = \\frac{y}{\\lambda_{\\text{current}}} = \" + vector_to_latex(np.round(x, 3))))\n",
    "        if abs(lambda_current - lambda_prev) <= epsilon:\n",
    "            display(Latex(f\"反復 {i} で収束\"))\n",
    "            break\n",
    "        lambda_prev = lambda_current\n",
    "        display(Math(r\"\\lambda_{\\text{prev}} = \" + f\"{np.round(lambda_prev, 3)}\"))\n",
    "        display(Latex(\"\"))\n",
    "    return lambda_current, x\n",
    "\n",
    "def matrix_to_latex(matrix):\n",
    "    \"\"\"行列をLaTeX形式の文字列に変換する\"\"\"\n",
    "    rows = []\n",
    "    for row in matrix:\n",
    "        rows.append(\" & \".join(map(str, row)))\n",
    "    return r\"\\begin{pmatrix}\" + r\" \\\\ \".join(rows) + r\"\\end{pmatrix}\"\n",
    "\n",
    "def vector_to_latex(vector):\n",
    "    \"\"\"ベクトルをLaTeX形式の文字列に変換する\"\"\"\n",
    "    return r\"\\begin{pmatrix}\" + r\" \\\\ \".join(map(str, vector)) + r\"\\end{pmatrix}\"\n",
    "\n",
    "# 使用例\n",
    "A_c = np.array([[9, 4], [4, 3]])\n",
    "x0_c = [1, 1]\n",
    "lambda_c, x_c = power_method_c_like(A_c, x0_c, epsilon=0.1, max_iterations=3)\n",
    "\n",
    "display(Latex(\"最終結果:\"))\n",
    "display(Math(r\"\\lambda = \" + f\"{np.round(lambda_c, 3)}\"))\n",
    "display(Math(r\"x = \" + vector_to_latex(np.round(x_c, 3))))\n"
   ]
  },
  {
   "cell_type": "code",
   "execution_count": 13,
   "metadata": {},
   "outputs": [
    {
     "name": "stdout",
     "output_type": "stream",
     "text": [
      "与えられた行列 A:\n",
      "[[9 4]\n",
      " [4 3]]\n",
      "\n",
      "特性方程式は det(A - λI) = 0 であり、\n",
      "| 9 - λ  4 |\n",
      "| 4  3 - λ | = 0\n",
      "\n",
      "これを展開すると、\n",
      "((9 - λ) * (3 - λ)) - (4 * 4) = 0\n",
      "λ^2 - (9 + 3)λ + (9*3 - 4*4) = 0\n",
      "\n",
      "λ^2 - 12λ + 11 = 0\n",
      "\n",
      "固有値は λ1 = 11.0, λ2 = 1.0 です。\n",
      "\n",
      "固有ベクトルを計算します。\n",
      "\n",
      "λ = 11.0 の場合:\n",
      "(A - λI)v = 0 を解く\n",
      "| -2.0  4 | | x | = | 0 |\n",
      "| 4  -8.0 | | y | = | 0 |\n",
      "固有ベクトルは v = [1, 0.5]\n",
      "\n",
      "λ = 1.0 の場合:\n",
      "(A - λI)v = 0 を解く\n",
      "| 8.0  4 | | x | = | 0 |\n",
      "| 4  2.0 | | y | = | 0 |\n",
      "固有ベクトルは v = [1, -2.0]\n"
     ]
    }
   ],
   "source": [
    "def characteristic_equation(A: np.ndarray):\n",
    "    \"\"\"\n",
    "    与えられた行列の特性方程式を計算し、固有値と固有ベクトルを求める。\n",
    "    Args:\n",
    "        A (np.array): 対象の正方行列。\n",
    "    Returns:\n",
    "        None: 結果をprintする。\n",
    "    \"\"\"\n",
    "    n = A.shape[0]\n",
    "    if n != 2:\n",
    "        print(\"2x2行列のみ対応しています。\")\n",
    "        return\n",
    "    \n",
    "    print(\"与えられた行列 A:\")\n",
    "    print(A)\n",
    "    \n",
    "    a = A[0, 0]\n",
    "    b = A[0, 1]\n",
    "    c = A[1, 0]\n",
    "    d = A[1, 1]\n",
    "    \n",
    "    print(\"\\n特性方程式は det(A - λI) = 0 であり、\")\n",
    "    print(f\"| {a} - λ  {b} |\")\n",
    "    print(f\"| {c}  {d} - λ | = 0\")\n",
    "    \n",
    "    print(f\"\\nこれを展開すると、\")\n",
    "    print(f\"(({a} - λ) * ({d} - λ)) - ({b} * {c}) = 0\")\n",
    "    print(f\"λ^2 - ({a} + {d})λ + ({a}*{d} - {b}*{c}) = 0\")\n",
    "    \n",
    "    trace = a + d\n",
    "    determinant = a * d - b * c\n",
    "    \n",
    "    print(f\"\\nλ^2 - {trace}λ + {determinant} = 0\")\n",
    "    \n",
    "    # 解の公式を用いて固有値を計算\n",
    "    discriminant = trace**2 - 4 * determinant\n",
    "    \n",
    "    if discriminant >= 0:\n",
    "        lambda1 = (trace + np.sqrt(discriminant)) / 2\n",
    "        lambda2 = (trace - np.sqrt(discriminant)) / 2\n",
    "        print(f\"\\n固有値は λ1 = {lambda1}, λ2 = {lambda2} です。\")\n",
    "        \n",
    "        # 固有ベクトルを計算\n",
    "        print(\"\\n固有ベクトルを計算します。\")\n",
    "        \n",
    "        for lambd in [lambda1, lambda2]:\n",
    "            print(f\"\\nλ = {lambd} の場合:\")\n",
    "            print(f\"(A - λI)v = 0 を解く\")\n",
    "            print(f\"| {a - lambd}  {b} | | x | = | 0 |\")\n",
    "            print(f\"| {c}  {d - lambd} | | y | = | 0 |\")\n",
    "            \n",
    "            if abs(b) > 1e-10:\n",
    "                x = 1\n",
    "                y = -(a - lambd) / b\n",
    "                print(f\"固有ベクトルは v = [{x}, {y}]\")\n",
    "            elif abs(c) > 1e-10:\n",
    "                y = 1\n",
    "                x = -(d - lambd) / c\n",
    "                print(f\"固有ベクトルは v = [{x}, {y}]\")\n",
    "            else:\n",
    "                print(\"固有ベクトルを計算できません\")\n",
    "    else:\n",
    "        print(\"固有値は複素数になります。\")\n",
    "\n",
    "characteristic_equation(A_c)\n"
   ]
  },
  {
   "cell_type": "code",
   "execution_count": 17,
   "metadata": {},
   "outputs": [
    {
     "data": {
      "text/latex": [
       "与えられた行列 A:"
      ],
      "text/plain": [
       "<IPython.core.display.Latex object>"
      ]
     },
     "metadata": {},
     "output_type": "display_data"
    },
    {
     "data": {
      "text/latex": [
       "$\\displaystyle \\left[\\begin{matrix}9 & 4\\\\4 & 3\\end{matrix}\\right]$"
      ],
      "text/plain": [
       "<IPython.core.display.Math object>"
      ]
     },
     "metadata": {},
     "output_type": "display_data"
    },
    {
     "data": {
      "text/latex": [
       "特性方程式は $\\det(A - λI) = 0$ であり、"
      ],
      "text/plain": [
       "<IPython.core.display.Latex object>"
      ]
     },
     "metadata": {},
     "output_type": "display_data"
    },
    {
     "data": {
      "text/latex": [
       "$\\displaystyle \\left[\\begin{matrix}9 - λ & 4\\\\4 & 3 - λ\\end{matrix}\\right]= 0$"
      ],
      "text/plain": [
       "<IPython.core.display.Math object>"
      ]
     },
     "metadata": {},
     "output_type": "display_data"
    },
    {
     "data": {
      "text/latex": [
       "これを展開すると、"
      ],
      "text/plain": [
       "<IPython.core.display.Latex object>"
      ]
     },
     "metadata": {},
     "output_type": "display_data"
    },
    {
     "data": {
      "text/latex": [
       "$\\displaystyle λ^{2} - 12 λ + 11= 0$"
      ],
      "text/plain": [
       "<IPython.core.display.Math object>"
      ]
     },
     "metadata": {},
     "output_type": "display_data"
    },
    {
     "data": {
      "text/latex": [
       "$\\displaystyle λ^{2} - 12 λ + 11= 0$"
      ],
      "text/plain": [
       "<IPython.core.display.Math object>"
      ]
     },
     "metadata": {},
     "output_type": "display_data"
    },
    {
     "data": {
      "text/latex": [
       "固有値は $λ_1 = 11$, $λ_2 = 1$ です。"
      ],
      "text/plain": [
       "<IPython.core.display.Latex object>"
      ]
     },
     "metadata": {},
     "output_type": "display_data"
    },
    {
     "data": {
      "text/latex": [
       "固有ベクトルを計算します。"
      ],
      "text/plain": [
       "<IPython.core.display.Latex object>"
      ]
     },
     "metadata": {},
     "output_type": "display_data"
    },
    {
     "data": {
      "text/latex": [
       "$λ = 11$ の場合:"
      ],
      "text/plain": [
       "<IPython.core.display.Latex object>"
      ]
     },
     "metadata": {},
     "output_type": "display_data"
    },
    {
     "data": {
      "text/latex": [
       "$(A - λI)v = 0$ を解く"
      ],
      "text/plain": [
       "<IPython.core.display.Latex object>"
      ]
     },
     "metadata": {},
     "output_type": "display_data"
    },
    {
     "data": {
      "text/latex": [
       "$\\displaystyle \\left[\\begin{matrix}-2 & 4\\\\4 & -8\\end{matrix}\\right]\\begin{pmatrix} x \\\\ y \\end{pmatrix} = \\begin{pmatrix} 0 \\\\ 0 \\end{pmatrix}$"
      ],
      "text/plain": [
       "<IPython.core.display.Math object>"
      ]
     },
     "metadata": {},
     "output_type": "display_data"
    },
    {
     "data": {
      "text/latex": [
       "$\\displaystyle v_{1} = \\begin{pmatrix}1\\\\\\frac{1}{2}\\end{pmatrix}$"
      ],
      "text/plain": [
       "<IPython.core.display.Math object>"
      ]
     },
     "metadata": {},
     "output_type": "display_data"
    },
    {
     "data": {
      "text/latex": [
       "$λ = 1$ の場合:"
      ],
      "text/plain": [
       "<IPython.core.display.Latex object>"
      ]
     },
     "metadata": {},
     "output_type": "display_data"
    },
    {
     "data": {
      "text/latex": [
       "$(A - λI)v = 0$ を解く"
      ],
      "text/plain": [
       "<IPython.core.display.Latex object>"
      ]
     },
     "metadata": {},
     "output_type": "display_data"
    },
    {
     "data": {
      "text/latex": [
       "$\\displaystyle \\left[\\begin{matrix}8 & 4\\\\4 & 2\\end{matrix}\\right]\\begin{pmatrix} x \\\\ y \\end{pmatrix} = \\begin{pmatrix} 0 \\\\ 0 \\end{pmatrix}$"
      ],
      "text/plain": [
       "<IPython.core.display.Math object>"
      ]
     },
     "metadata": {},
     "output_type": "display_data"
    },
    {
     "data": {
      "text/latex": [
       "$\\displaystyle v_{2} = \\begin{pmatrix}1\\\\-2\\end{pmatrix}$"
      ],
      "text/plain": [
       "<IPython.core.display.Math object>"
      ]
     },
     "metadata": {},
     "output_type": "display_data"
    }
   ],
   "source": [
    "import numpy as np\n",
    "import sympy as sp\n",
    "from IPython.display import display, Math, Latex\n",
    "\n",
    "def characteristic_equation(A: np.ndarray):\n",
    "    \"\"\"\n",
    "    与えられた行列の特性方程式を計算し、固有値と固有ベクトルを求める。\n",
    "    Args:\n",
    "        A (np.array): 対象の正方行列。\n",
    "    Returns:\n",
    "        None: 結果を表示する。\n",
    "    \"\"\"\n",
    "    n = A.shape[0]\n",
    "    if n != 2:\n",
    "        display(Latex(\"2x2行列のみ対応しています。\"))\n",
    "        return\n",
    "    \n",
    "    display(Latex(\"与えられた行列 A:\"))\n",
    "    display(Math(sp.latex(sp.Matrix(A))))\n",
    "    \n",
    "    a, b, c, d = A.flatten()\n",
    "    lambda_sym = sp.Symbol('λ')\n",
    "    \n",
    "    display(Latex(\"特性方程式は $\\\\det(A - λI) = 0$ であり、\"))\n",
    "    char_eq_matrix = sp.Matrix([[a - lambda_sym, b], [c, d - lambda_sym]])\n",
    "    display(Math(sp.latex(char_eq_matrix) + \"= 0\"))\n",
    "    \n",
    "    display(Latex(\"これを展開すると、\"))\n",
    "    expanded_eq = sp.expand(char_eq_matrix.det())\n",
    "    display(Math(sp.latex(expanded_eq) + \"= 0\"))\n",
    "    \n",
    "    trace = a + d\n",
    "    determinant = a * d - b * c\n",
    "    \n",
    "    display(Math(sp.latex(lambda_sym**2 - trace*lambda_sym + determinant) + \"= 0\"))\n",
    "    \n",
    "    # 解の公式を用いて固有値を計算\n",
    "    discriminant = trace**2 - 4 * determinant\n",
    "    \n",
    "    if discriminant >= 0:\n",
    "        lambda1 = (trace + sp.sqrt(discriminant)) / 2\n",
    "        lambda2 = (trace - sp.sqrt(discriminant)) / 2\n",
    "        display(Latex(f\"固有値は $λ_1 = {sp.latex(lambda1)}$, $λ_2 = {sp.latex(lambda2)}$ です。\"))\n",
    "        \n",
    "        display(Latex(\"固有ベクトルを計算します。\"))\n",
    "        \n",
    "        for i, lambd in enumerate([lambda1, lambda2], 1):\n",
    "            display(Latex(f\"$λ = {sp.latex(lambd)}$ の場合:\"))\n",
    "            display(Latex(\"$(A - λI)v = 0$ を解く\"))\n",
    "            eigenvector_eq = sp.Matrix([[a - lambd, b], [c, d - lambd]])\n",
    "            display(Math(sp.latex(eigenvector_eq) + r\"\\begin{pmatrix} x \\\\ y \\end{pmatrix} = \\begin{pmatrix} 0 \\\\ 0 \\end{pmatrix}\"))\n",
    "            \n",
    "            if abs(b) > 1e-10:\n",
    "                x = 1\n",
    "                y = -(a - lambd) / b\n",
    "            elif abs(c) > 1e-10:\n",
    "                y = 1\n",
    "                x = -(d - lambd) / c\n",
    "            else:\n",
    "                display(Latex(\"固有ベクトルを計算できません\"))\n",
    "                continue\n",
    "            \n",
    "            display(Math(r\"v_{\" + str(i) + r\"} = \\begin{pmatrix}\" + sp.latex(x) + r\"\\\\\" + sp.latex(y) + r\"\\end{pmatrix}\"))\n",
    "    else:\n",
    "        display(Latex(\"固有値は複素数になります。\"))\n",
    "\n",
    "# 使用例\n",
    "# A_c = np.array([[1, 2], [3, 4]])\n",
    "characteristic_equation(A_c)\n"
   ]
  }
 ],
 "metadata": {
  "kernelspec": {
   "display_name": "Python 3",
   "language": "python",
   "name": "python3"
  },
  "language_info": {
   "codemirror_mode": {
    "name": "ipython",
    "version": 3
   },
   "file_extension": ".py",
   "mimetype": "text/x-python",
   "name": "python",
   "nbconvert_exporter": "python",
   "pygments_lexer": "ipython3",
   "version": "3.11.3"
  }
 },
 "nbformat": 4,
 "nbformat_minor": 2
}
