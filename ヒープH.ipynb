{
 "cells": [
  {
   "cell_type": "code",
   "execution_count": 46,
   "metadata": {},
   "outputs": [],
   "source": [
    "class MaxHeap:\n",
    "    def __init__(self, initial_values=None):\n",
    "        self.heap = []\n",
    "        if initial_values:\n",
    "            for value in initial_values:\n",
    "                self.add_heap(value)\n",
    "\n",
    "    def add_heap(self, value):\n",
    "        # 値をヒープの末尾に追加\n",
    "        self.heap.append(value)\n",
    "        # ヒープ条件を満たすように上方向に調整\n",
    "        self._heapify_up(len(self.heap) - 1)\n",
    "\n",
    "    def delete_heap(self):\n",
    "        if len(self.heap) == 0:\n",
    "            raise IndexError(\"空のヒープからは削除できません\")\n",
    "        if len(self.heap) == 1:\n",
    "            return self.heap.pop()\n",
    "        # ルート値を保存\n",
    "        root_value = self.heap[0]\n",
    "        # 末尾の要素をルートに移動\n",
    "        self.heap[0] = self.heap.pop()\n",
    "        # ヒープ条件を満たすように下方向に調整\n",
    "        self._heapify_down(0)\n",
    "        return root_value\n",
    "\n",
    "    def _heapify_up(self, index):\n",
    "        parent_index = (index - 1) // 2\n",
    "        while index > 0 and self.heap[index] > self.heap[parent_index]:\n",
    "            # 親ノードより大きい場合は交換\n",
    "            self.heap[index], self.heap[parent_index] = self.heap[parent_index], self.heap[index]\n",
    "            index = parent_index\n",
    "            parent_index = (index - 1) // 2\n",
    "\n",
    "    def _heapify_down(self, index):\n",
    "        child_index = 2 * index + 1\n",
    "        while child_index < len(self.heap):\n",
    "            right_child_index = child_index + 1\n",
    "            if right_child_index < len(self.heap) and self.heap[right_child_index] > self.heap[child_index]:\n",
    "                child_index = right_child_index\n",
    "            if self.heap[index] >= self.heap[child_index]:\n",
    "                break\n",
    "            self.heap[index], self.heap[child_index] = self.heap[child_index], self.heap[index]\n",
    "            index = child_index\n",
    "            child_index = 2 * index + 1"
   ]
  },
  {
   "cell_type": "code",
   "execution_count": 48,
   "metadata": {},
   "outputs": [
    {
     "name": "stdout",
     "output_type": "stream",
     "text": [
      "初期ヒープ: [6, 4, 2, 1]\n",
      "\t\t\t     i :  0  1  2  3  4  5  6  7  8\n",
      "1. add_heap(H, 7) \t-> H[i]: [7, 6, 2, 1, 4]\n",
      "2. add_heap(H, 8) \t-> H[i]: [8, 6, 7, 1, 4, 2]\n",
      "3. add_heap(H, 5) \t-> H[i]: [8, 6, 7, 1, 4, 2, 5]\n",
      "4. delete_heap(H) \t-> H[i]: [7, 6, 5, 1, 4, 2] \t-> 8\n",
      "5. add_heap(H, 4) \t-> H[i]: [7, 6, 5, 1, 4, 2, 4]\n",
      "6. add_heap(H, 6) \t-> H[i]: [7, 6, 5, 6, 4, 2, 4, 1]\n",
      "7. add_heap(H, 9) \t-> H[i]: [9, 7, 5, 6, 4, 2, 4, 1, 6]\n",
      "8. delete_heap(H) \t-> H[i]: [7, 6, 5, 6, 4, 2, 4, 1] \t-> 9\n",
      "9. delete_heap(H) \t-> H[i]: [6, 6, 5, 1, 4, 2, 4] \t-> 7\n"
     ]
    }
   ],
   "source": [
    "heap = MaxHeap([6, 4, 2, 1])\n",
    "print(\"初期ヒープ:\", heap.heap)\n",
    "\n",
    "operations = [7, 8, 5, \"delete\", 4, 6, 9, \"delete\", \"delete\"]\n",
    "\n",
    "print(f\"\\t\\t\\t     i :  {'  '.join(list(map(str, range(9))))}\")\n",
    "for i, operation in enumerate(operations, 1):\n",
    "    if operation == \"delete\":\n",
    "        max_value = heap.delete_heap()\n",
    "        print(f\"{i}. delete_heap(H) \\t-> H[i]: {heap.heap} \\t-> {max_value}\")\n",
    "    else:\n",
    "        heap.add_heap(operation)\n",
    "        print(f\"{i}. add_heap(H, {operation}) \\t-> H[i]: {heap.heap}\")\n",
    "    # print()"
   ]
  }
 ],
 "metadata": {
  "kernelspec": {
   "display_name": "Python 3",
   "language": "python",
   "name": "python3"
  },
  "language_info": {
   "codemirror_mode": {
    "name": "ipython",
    "version": 3
   },
   "file_extension": ".py",
   "mimetype": "text/x-python",
   "name": "python",
   "nbconvert_exporter": "python",
   "pygments_lexer": "ipython3",
   "version": "3.11.3"
  }
 },
 "nbformat": 4,
 "nbformat_minor": 2
}
